{
 "cells": [
  {
   "cell_type": "code",
   "execution_count": null,
   "metadata": {},
   "outputs": [],
   "source": [
    "import matplotlib.pyplot as plt\n",
    "import numpy as np\n",
    "import skimage.io\n",
    "import matplotlib.pyplot as plt\n",
    "from scipy import interpolate\n",
    "import skimage.color\n",
    "import skimage.transform\n",
    "import itertools\n",
    "\n",
    "import urllib.request as request\n",
    "\n",
    "def plot_neigborhood(x, y, P, R):\n",
    "    plt.scatter(x, y)\n",
    "    plt.axis('square')\n",
    "    plt.grid(True)\n",
    "    plt.title('Cicle with P={p} and R={r}'.format(p=P, r=R))\n",
    "    plt.xticks(np.arange(-2, 3, 1.0))\n",
    "    plt.yticks(np.arange(-2, 3, 1.0))\n",
    "    plt.show()\n",
    "    \n",
    "def load_image(url, as_gray=False):\n",
    "    image_stream = request.urlopen(url)\n",
    "    return skimage.io.imread(image_stream, as_gray=as_gray, plugin='pil')\n",
    "\n",
    "\n",
    "def create_index(s_T):\n",
    "    n_ones = np.sum(s_T)\n",
    "    s_T_size = len(s_T)\n",
    "    \n",
    "    if 1 in s_T:\n",
    "        first_one = list(s_T).index(1)\n",
    "    else:\n",
    "        first_one = -1\n",
    "    \n",
    "    if 0 in s_T:\n",
    "        first_zero = list(s_T).index(0)\n",
    "    else:\n",
    "        first_zero = -1\n",
    "    \n",
    "    if n_ones == 0:\n",
    "        return 0\n",
    "    elif n_ones == s_T_size:\n",
    "        return s_T_size * (s_T_size - 1) + 1\n",
    "    else:\n",
    "        if first_one == 0:\n",
    "            rot_index = n_ones - first_zero\n",
    "        else:\n",
    "            rot_index = s_T_size - first_one\n",
    "        return 1 + (n_ones - 1) * s_T_size + rot_index    "
   ]
  },
  {
   "cell_type": "code",
   "execution_count": null,
   "metadata": {},
   "outputs": [],
   "source": [
    "url = 'https://cdn.pixabay.com/photo/2015/12/26/08/20/red-1108405_1280.jpg'\n",
    "img = load_image(url, False)\n",
    "img = skimage.transform.rescale(img, scale=(1/2, 1/2), anti_aliasing=True, mode='reflect', multichannel=True)\n",
    "img_gray = skimage.color.rgb2gray(img)"
   ]
  },
  {
   "cell_type": "markdown",
   "metadata": {},
   "source": [
    "# Image Feature Extraction: Local Binary Patterns in Cython\n",
    "\n",
    "# Introduction\n",
    "\n",
    "The common goal of feature extraction is to represent the raw data as a reduced set of features that better describe their main features and attributes [1]. This way, we can reduce the dimentionality of the original input and use the new features as an input to train pattern recognition and classification techniques.\n",
    "\n",
    "Although there are several features that we can extract from a picture, Local Binary Patterns (LBP) is a theoretically simple, yet efficient approach to gray scale and rotation invariant textur classification. They work because the most frequent patterns correspond to primitive microfeatures such as edges, corners, spots, flat regions [2].\n",
    "\n",
    "In [2], Ojala et al. shown that the discrete occurence histogram of the uniform patterns are a very powerful texture feature. Image texture is defined as a two dimentional phenomenon characterized by two properties: (1) spatial structure (pattern) and (2) contrast.\n",
    "\n",
    "The image that we are going to use to test each step of the methodology is the following:"
   ]
  },
  {
   "cell_type": "code",
   "execution_count": null,
   "metadata": {},
   "outputs": [],
   "source": [
    "_ = plt.imshow(img)"
   ]
  },
  {
   "cell_type": "markdown",
   "metadata": {},
   "source": [
    "# Methodology\n",
    "\n",
    "## Circularly Symmetric Neighbor Set\n",
    "\n",
    "A circularly symmetric neighbor set for a given pixel $g_c$ is defined by the points with coordinates (i, j) that surround the central point on a circle of radius R, and number of elements P.\n",
    "\n",
    "$$i = -R\\sin\\big(\\frac{2\\pi p}{ P}\\big);\\hspace{1em}j = R\\cos\\big(\\frac{2\\pi p}{P}\\big)\\hspace{1em}\\forall\\hspace{0.5em}p \\in \\{0, 1, ..., P\\}$$"
   ]
  },
  {
   "cell_type": "code",
   "execution_count": null,
   "metadata": {},
   "outputs": [],
   "source": [
    "def neighborhood(P, R):\n",
    "    x = np.arange(0, P)\n",
    "    x = R * np.cos(2 * np.pi * x / P)\n",
    "    \n",
    "    y = np.arange(0, P)\n",
    "    y = - R * np.sin(2 * np.pi * y / P)\n",
    "    \n",
    "    return x, y"
   ]
  },
  {
   "cell_type": "code",
   "execution_count": null,
   "metadata": {},
   "outputs": [],
   "source": [
    "R = 2\n",
    "P = 8\n",
    "\n",
    "x, y = neighborhood(P, R)\n",
    "\n",
    "plot_neigborhood(x, y, P, R)"
   ]
  },
  {
   "cell_type": "markdown",
   "metadata": {},
   "source": [
    "## Texture\n",
    "We define a texture *T* as the collection of pixels in a gray scale image\n",
    "\n",
    "$$T \\approx t(g_c, g_0, g_1, ..., g_{P-1})$$\n",
    "\n",
    "where $g_p$ corresponds to the gray value of the *p* local neighboor."
   ]
  },
  {
   "cell_type": "markdown",
   "metadata": {},
   "source": [
    "## Interpolation\n",
    "\n",
    "When a neighbor is not located in the center of a pixel, that neighbor gray value should be calculated by interpolation. Thus, we need to define a function that given a coordinate, returns the interpolated gray value."
   ]
  },
  {
   "cell_type": "code",
   "execution_count": null,
   "metadata": {},
   "outputs": [],
   "source": [
    "def interpolate2d(gray_img, kind='cubic'):\n",
    "    \"\"\"\n",
    "    Returns a function f(x,y) that returns the interpolated value\n",
    "    of gray_img where (x,y) is the coordinate.\n",
    "    \"\"\"\n",
    "    assert gray_img.ndim == 2, 'It should be a two dimentional image (gray)'\n",
    "    h, w = gray_img.shape\n",
    "\n",
    "    x = np.arange(0, w)\n",
    "    y = np.arange(0, h)\n",
    "\n",
    "    return interpolate.interp2d(x, y, gray_img, kind=kind)\n",
    "\n",
    "def calculate_neiborhood_values(x, y, interpolation_function):\n",
    "    gray_values = map(lambda pt: interpolation_function(*pt), zip(x, y))\n",
    "    return np.fromiter(gray_values, float)"
   ]
  },
  {
   "cell_type": "code",
   "execution_count": null,
   "metadata": {},
   "outputs": [],
   "source": [
    "x0 = 400\n",
    "y0 = 400\n",
    "\n",
    "xp = x + x0\n",
    "yp = y + y0\n",
    "\n",
    "f = interpolate2d(img_gray, kind='cubic')\n",
    "\n",
    "print('Neigborhood gray values:\\n', img_gray[y0 - R: y0 + R + 1, x0 - R: x0 + R + 1])\n",
    "print('\\nNeighborhood interpolations:', calculate_neiborhood_values(xp, yp, f))"
   ]
  },
  {
   "cell_type": "markdown",
   "metadata": {},
   "source": [
    "## Achieving Gray-Scale Invariance\n",
    "\n",
    "Considering a possible loss of information, it is possible to turn the texture into the joint difference. To calculate it, we substract the gray value of the central pixel to all of the neighbor set. The joint difference distribution is a highly discriminative texture operator. It records the ocurrences of various patterns in the neighborhood of each pixel in a P-dimentional histogram.\n",
    "\n",
    "$$T \\approx t(g_0 - g_c, g_1 - g_c, ... g_{P-1} - g_c)$$\n",
    "\n",
    "where $g_0$ is the gray value of the center pixel and $g_p$ is the gray value of the $p$ neighbor. This distribution is invariant against gray-scale shifts."
   ]
  },
  {
   "cell_type": "code",
   "execution_count": null,
   "metadata": {},
   "outputs": [],
   "source": [
    "def joint_difference_distribution(gray_img, gc, x, y, interpolation_f):\n",
    "    xc, yc = gc\n",
    "    \n",
    "    xp = xc + x\n",
    "    yp = yc + y\n",
    "    \n",
    "    g_p = calculate_neiborhood_values(xp, yp, interpolation_f)\n",
    "    g_c = interpolation_f(xc, yc)\n",
    "    \n",
    "    return np.round(g_p - g_c, 15)"
   ]
  },
  {
   "cell_type": "code",
   "execution_count": null,
   "metadata": {},
   "outputs": [],
   "source": [
    "print('The joint difference distribution is:\\n', joint_difference_distribution(img_gray, (x0, y0), x, y, f))"
   ]
  },
  {
   "cell_type": "markdown",
   "metadata": {},
   "source": [
    "## Local Binary Pattern\n",
    "\n",
    "$LBP_{P,R}$ operater is by definition invariant against any monotonic transformation of the gray scale. As long as the order of the gray values stays the same, the output of the $LBP_{P,R}$ operator remains constant.\n",
    "\n",
    "$$LBP_{P,R} = \\sum_{p=0}^{P-1} s(g_p - g_c) 2^p$$\n",
    "\n",
    "where \n",
    "\n",
    "$$s(x) = \n",
    "\\begin{cases} \n",
    "    1 & x\\geq0 \\\\\n",
    "    0 & x<0\n",
    "\\end{cases}\n",
    "$$"
   ]
  },
  {
   "cell_type": "code",
   "execution_count": null,
   "metadata": {},
   "outputs": [],
   "source": [
    "def binary_joint_distribution(gray_img, gc, x, y, interpolation_f):\n",
    "    T = joint_difference_distribution(gray_img, gc, x, y, interpolation_f)\n",
    "    return np.where(T >= 0, 1, 0)\n",
    "\n",
    "def LBP(gray_img, gc, x, y, interpolation_f):\n",
    "    s = binary_joint_distribution(gray_img, gc, x, y, interpolation_f)\n",
    "    p = np.arange(0, P)\n",
    "    binomial_factor = 2 ** p\n",
    "    return np.sum(binomial_factor * s)"
   ]
  },
  {
   "cell_type": "code",
   "execution_count": null,
   "metadata": {},
   "outputs": [],
   "source": [
    "print('The joint difference distribution is:\\n', joint_difference_distribution(img_gray, (x0, y0), x, y, f))\n",
    "print('The binary joint distribution is:\\n', binary_joint_distribution(img_gray, (x0, y0), x, y, f))\n",
    "print('LBP:\\n', LBP(img_gray, (x0, y0), x, y, f))"
   ]
  },
  {
   "cell_type": "markdown",
   "metadata": {},
   "source": [
    "### Uniform Local Binary Patterns\n",
    "\n",
    "In [2], Ojala mentions that in their practical experience LBP is not a good discriminator. They propose just to select the set of local binary patterns such that the number of spatial transitions (bitwise 0/1 changes) does not exeed 2. For example, the pattern '1111' has 0 spatial transitions, the pattern '1100' has 1 spatial transitions and the pattern '1101' has 2 spatial transitions. To each uniform pattern, a unique index is associated. \n",
    "\n",
    "The formula to create the index was borrowed from https://github.com/scikit-image/scikit-image/blob/master/skimage/feature/_texture.pyx"
   ]
  },
  {
   "cell_type": "code",
   "execution_count": null,
   "metadata": {},
   "outputs": [],
   "source": [
    "def is_uniform(pattern):\n",
    "    count = 0\n",
    "    for idx in range(len(pattern) - 1):\n",
    "        count += pattern[idx] ^ pattern[idx + 1]\n",
    "        if count > 2:\n",
    "            return False\n",
    "    return True\n",
    "\n",
    "def uniform_patterns(P):\n",
    "    patterns = itertools.product([0, 1], repeat=P)\n",
    "    u_patterns = [pattern for pattern in patterns if is_uniform(pattern)]\n",
    "    \n",
    "    return [''.join(str(elem) for elem in elems) for elems in u_patterns]\n",
    "\n",
    "def LBP_uniform(gray_img, gc, x, y, interpolation_f, uniform_patterns):\n",
    "    s = binary_joint_distribution(gray_img, gc, x, y, f)\n",
    "    pattern = ''.join([str(elem) for elem in s])\n",
    "    \n",
    "    return create_index(s) if pattern in uniform_patterns else 2 + P * (P - 1)"
   ]
  },
  {
   "cell_type": "code",
   "execution_count": null,
   "metadata": {},
   "outputs": [],
   "source": [
    "u_patterns = uniform_patterns(P)\n",
    "\n",
    "print('The joint difference distribution is:\\n', joint_difference_distribution(img_gray, (x0, y0), x, y, f))\n",
    "s_T = binary_joint_distribution(img_gray, (x0, y0), x, y, f)\n",
    "print('The binary joint distribution is:\\n', s_T)\n",
    "print('LBP:\\n', LBP(img_gray, (x0, y0), x, y, f))\n",
    "print('Is {} a uniform pattern: {}\\n'.format(s_T, is_uniform(s_T)))\n",
    "print('LBP_uniform:', LBP_uniform(img_gray, (x0, y0), x, y, f, u_patterns))"
   ]
  },
  {
   "cell_type": "markdown",
   "metadata": {},
   "source": [
    "Now, we can calculate the local binary patterns for a central pixel. The next step is to calculate the local binary patterns for all the fixels.\n",
    "\n",
    "*Hint: For siplicity sake, I am not considering the case where a selected index is negative (i.e. img_gray[-1][0] returns the last pixel of the first column). If we would want to have the most accurate calculation, we should consider this case and treat it. "
   ]
  },
  {
   "cell_type": "code",
   "execution_count": null,
   "metadata": {},
   "outputs": [],
   "source": [
    "%%time\n",
    "\n",
    "R = 2\n",
    "P = 8\n",
    "\n",
    "x, y = neighborhood(P, R)\n",
    "h, w = img_gray.shape\n",
    "f = interpolate2d(img_gray, kind='cubic')\n",
    "\n",
    "LBP_image = np.zeros((h, w))\n",
    "\n",
    "for j in range(h):\n",
    "    for i in range(w):\n",
    "        LBP_image[j, i] = LBP_uniform(img_gray, (i, j), x, y, f, u_patterns)"
   ]
  },
  {
   "cell_type": "code",
   "execution_count": null,
   "metadata": {},
   "outputs": [],
   "source": [
    "print('The LBP image is:', LBP_image)"
   ]
  },
  {
   "cell_type": "code",
   "execution_count": null,
   "metadata": {},
   "outputs": [],
   "source": [
    "_ = plt.hist(LBP_image.ravel())"
   ]
  },
  {
   "cell_type": "markdown",
   "metadata": {},
   "source": [
    "# Cython Code\n",
    "\n",
    "The previous code is not perfect; however, what makes it really slow is that we iterate through all the image pixels. Waiting 1 minute and 10 seconds to calculate our features is a lot, if we take into account that we have also to traini a pattern recognition technique. Thus, we need an alternative implementation that must be much faster for loops. In this case, we will use Cython. The code is presented in the next image, it is a big chunk of code. Some parts of if could be improved, but it is already much faster. Please feel free to leave comments if you don't understand something from the code.\n",
    "\n",
    "The code is written in such a way that most of it runs entirely in the C API. This strategy speeds up the execution considerably, but also allow us to take advantage of cython's parallel module. We will split the job across multiple\n",
    "cores in the CPU."
   ]
  },
  {
   "cell_type": "code",
   "execution_count": null,
   "metadata": {},
   "outputs": [],
   "source": [
    "%load_ext Cython"
   ]
  },
  {
   "cell_type": "code",
   "execution_count": null,
   "metadata": {},
   "outputs": [],
   "source": [
    "%%cython --compile-args=-fopenmp --link-args=-fopenmp\n",
    "\n",
    "from libc.math cimport sin, cos, pi, ceil, floor, pow\n",
    "from libc.stdlib cimport abort, malloc, free\n",
    "import numpy as np\n",
    "cimport numpy as np\n",
    "cimport cython\n",
    "from cython.parallel import prange, parallel\n",
    "cimport openmp\n",
    "\n",
    "\n",
    "cdef double get_pixel2d(\n",
    "    double *image,\n",
    "    Py_ssize_t n_rows, \n",
    "    Py_ssize_t n_cols,\n",
    "    long x,\n",
    "    long y) nogil:\n",
    "    \n",
    "    if (y < 0) or (y >= n_rows) or (x < 0) or (x >= n_cols):\n",
    "        return 0\n",
    "    else:\n",
    "        return image[y * n_cols + x]\n",
    "\n",
    "    \n",
    "cdef double bilinear_interpolation(\n",
    "    double *image,\n",
    "    Py_ssize_t n_rows,\n",
    "    Py_ssize_t n_cols,\n",
    "    double x,\n",
    "    double y) nogil:\n",
    "    \n",
    "    cdef double d_y, d_x, top_left, top_right, bottom_left, bottom_right\n",
    "    cdef long min_y, min_x, max_y, max_x\n",
    "\n",
    "    min_y = <long>floor(y)\n",
    "    min_x = <long>floor(x)\n",
    "    max_y = <long>ceil(y)\n",
    "    max_x = <long>ceil(x)\n",
    "    \n",
    "    d_y = y - min_y\n",
    "    d_x = x - min_x\n",
    "    \n",
    "    top_left = get_pixel2d(image, n_rows, n_cols, min_x, min_y)\n",
    "    top_right = get_pixel2d(image, n_rows, n_cols, max_x, min_y)\n",
    "    bottom_left = get_pixel2d(image, n_rows, n_cols, min_x, max_y)\n",
    "    bottom_right = get_pixel2d(image, n_rows, n_cols, max_x, max_y)\n",
    "    \n",
    "    top = (1 - d_x) * top_left + d_x * top_right\n",
    "    bottom = (1 - d_x) * bottom_left + d_x * bottom_right\n",
    "\n",
    "    return (1 - d_y) * top + d_y * bottom\n",
    "\n",
    "\n",
    "cdef double *joint_difference_distribution(\n",
    "    double *image,\n",
    "    Py_ssize_t n_rows,\n",
    "    Py_ssize_t n_cols,\n",
    "    int x0,\n",
    "    int y0,\n",
    "    int P,\n",
    "    int R\n",
    ") nogil:\n",
    "    cdef Py_ssize_t p\n",
    "    cdef double *T = <double *> malloc(sizeof(double) * P)\n",
    "    cdef double x, y, gp, gc\n",
    "    \n",
    "    if T is NULL:\n",
    "        abort()\n",
    "        \n",
    "    gc = get_pixel2d(image, n_rows, n_cols, x0, y0)\n",
    "    \n",
    "    for p in range(P):\n",
    "        x = x0 + R * cos(2 * pi * p / P)\n",
    "        y = y0 - R * sin(2 * pi * p / P)\n",
    "        gp = bilinear_interpolation(image, n_rows, n_cols, x, y)\n",
    "        T[p] = gp - gc\n",
    "    \n",
    "    return T\n",
    "\n",
    "\n",
    "cdef int *binary_joint_distribution(double *T, Py_ssize_t T_size) nogil:\n",
    "    cdef int *s_T = <int *> malloc(sizeof(int) * T_size)\n",
    "    cdef Py_ssize_t i = 0\n",
    "    \n",
    "    for t in range(T_size):\n",
    "        if T[t] >= 0.0:\n",
    "            s_T[t] = 1\n",
    "        else:\n",
    "            s_T[t] = 0\n",
    "    \n",
    "    return s_T\n",
    "\n",
    "\n",
    "cdef long LBP(double *T, int *s_T, Py_ssize_t T_size) nogil:\n",
    "    cdef long LBP_pr = 0\n",
    "    cdef Py_ssize_t i = 0\n",
    "    \n",
    "    for i in range(0, T_size):\n",
    "        LBP_pr = LBP_pr + 2 ** i * s_T[i]\n",
    "        \n",
    "    return LBP_pr\n",
    "\n",
    "\n",
    "cdef int is_uniform_pattern(int *s_T, Py_ssize_t s_T_size) nogil:\n",
    "    cdef Py_ssize_t i = 0\n",
    "    cdef int counter = 0\n",
    "    \n",
    "    for i in range(s_T_size - 1):\n",
    "        if s_T[i] != s_T[i + 1]:\n",
    "            counter += 1\n",
    "        \n",
    "        if counter > 2:\n",
    "            return 0\n",
    "    return 1\n",
    "\n",
    "\n",
    "cdef int create_index(int *s_T, Py_ssize_t s_T_size) nogil:\n",
    "    cdef int n_ones = 0\n",
    "    cdef int rot_index = -1\n",
    "    cdef int first_one = -1\n",
    "    cdef int first_zero = -1\n",
    "    cdef int lbp = -1\n",
    "\n",
    "    cdef Py_ssize_t i\n",
    "    for i in range(s_T_size):\n",
    "        if s_T[i]:\n",
    "            n_ones += 1\n",
    "            if first_one == -1:\n",
    "                first_one = i\n",
    "        else:\n",
    "            if first_zero == -1:\n",
    "                first_zero = i\n",
    "    \n",
    "    if n_ones == 0:\n",
    "        lbp = 0\n",
    "    elif n_ones == s_T_size:\n",
    "        lbp = s_T_size * (s_T_size - 1) + 1\n",
    "    else:\n",
    "        if first_one == 0:\n",
    "            rot_index = n_ones - first_zero\n",
    "        else:\n",
    "            rot_index = s_T_size - first_one\n",
    "        lbp = 1 + (n_ones - 1) * s_T_size + rot_index\n",
    "    return lbp\n",
    "\n",
    "\n",
    "cdef int LBP_uniform(int *s_T, Py_ssize_t s_T_size) nogil:\n",
    "    cdef int LBP_pru = 0\n",
    "    cdef Py_ssize_t i = 0\n",
    "    \n",
    "    if is_uniform_pattern(s_T, s_T_size):\n",
    "        LBP_pru = create_index(s_T, s_T_size)\n",
    "    else:\n",
    "        LBP_pru = 2 + s_T_size * (s_T_size - 1)\n",
    "        \n",
    "    return LBP_pru\n",
    "\n",
    "\n",
    "@cython.boundscheck(False)\n",
    "@cython.wraparound(False)\n",
    "def local_binary_patterns(\n",
    "    double[:, ::1] image,\n",
    "    int P,\n",
    "    int R,\n",
    "    int num_threads=1\n",
    "):\n",
    "    \n",
    "    cdef Py_ssize_t x = 0\n",
    "    cdef Py_ssize_t y = 0\n",
    "    cdef int n_rows = image.shape[0]\n",
    "    cdef int n_cols = image.shape[1]\n",
    "    cdef int[:, ::1] lbp = np.zeros([n_rows, n_cols], dtype=np.int32) \n",
    "    \n",
    "    with nogil, parallel(num_threads=num_threads):\n",
    "        for y in prange(n_rows, schedule='static'):\n",
    "            for x in prange(n_cols, schedule='static'):\n",
    "                T = joint_difference_distribution(&image[0][0], n_rows, n_cols, x, y, P, R)\n",
    "                s_T = binary_joint_distribution(T, P)\n",
    "                lbp[y, x] = LBP_uniform(s_T, P)\n",
    "    \n",
    "    return np.asarray(lbp)"
   ]
  },
  {
   "cell_type": "code",
   "execution_count": null,
   "metadata": {},
   "outputs": [],
   "source": [
    "%%time\n",
    "\n",
    "lbp = local_binary_patterns(img_gray, P, R, num_threads=4)"
   ]
  },
  {
   "cell_type": "markdown",
   "metadata": {},
   "source": [
    "Using 4 threads, I can calculate the local binary patterns for all the pixels in less than 150 ms. This is so much more faster that I won't even bother to calculate by how many times."
   ]
  },
  {
   "cell_type": "markdown",
   "metadata": {},
   "source": [
    "# Comparison with a Similar Image\n",
    "\n",
    "Let's take another image of bricks, but this one will have a different texture."
   ]
  },
  {
   "cell_type": "code",
   "execution_count": null,
   "metadata": {},
   "outputs": [],
   "source": [
    "url2 = 'https://cdn.pixabay.com/photo/2014/09/24/16/28/bricks-459299_1280.jpg'\n",
    "\n",
    "img = load_image(url2, False)\n",
    "img = skimage.transform.rescale(img, scale=(1/2, 1/2), anti_aliasing=True, mode='reflect', multichannel=True)\n",
    "img_gray = skimage.color.rgb2gray(img)\n",
    "_ = plt.imshow(img)"
   ]
  },
  {
   "cell_type": "code",
   "execution_count": null,
   "metadata": {},
   "outputs": [],
   "source": [
    "%%time \n",
    "\n",
    "lbp2 = local_binary_patterns(img_gray, P, R, num_threads=3)"
   ]
  },
  {
   "cell_type": "code",
   "execution_count": null,
   "metadata": {},
   "outputs": [],
   "source": [
    "figure = plt.figure(figsize=(14, 5))\n",
    "\n",
    "plt.subplot(121)\n",
    "plt.hist(lbp.ravel())\n",
    "plt.title('Orange Bricks')\n",
    "plt.grid(True)\n",
    "\n",
    "plt.subplot(122)\n",
    "plt.hist(lbp2.ravel())\n",
    "plt.title('Gray Bricks')\n",
    "plt.grid(True)\n",
    "\n",
    "plt.show()"
   ]
  },
  {
   "cell_type": "markdown",
   "metadata": {},
   "source": [
    "Both histograms are very similar, and they should be, both of them are bricks. Nonetheless, features from 20 to 40 are very disimilar in both images. It means that with a good machine learning algorithm we could correctly classify them."
   ]
  },
  {
   "cell_type": "markdown",
   "metadata": {},
   "source": [
    "# Conclusion\n",
    "\n",
    "Local binary patterns are siple but efficient features. The theory behind is not hard to understand and they are easy to code. Nevertheless, if we code them entirely with Python, we will have some performance issues. We tackled the problem with Cython and we got very impressive results. The next step is to collect different texture images and train your favorite machine learning algorithm to classify them."
   ]
  },
  {
   "cell_type": "markdown",
   "metadata": {},
   "source": [
    "# Bibliography\n",
    "\n",
    "[1] Marques, O. (2011). Practical image and video processing using MATLAB. John Wiley & Sons.\n",
    "\n",
    "[2] Ojala, T., Pietikäinen, M., & Mäenpää, T. (2002). Multiresolution gray-scale and rotation invariant texture classification with local binary patterns. IEEE Transactions on Pattern Analysis and Machine Intelligence, 24(7), 971–987."
   ]
  }
 ],
 "metadata": {
  "kernelspec": {
   "display_name": "Python 3",
   "language": "python",
   "name": "python3"
  },
  "language_info": {
   "codemirror_mode": {
    "name": "ipython",
    "version": 3
   },
   "file_extension": ".py",
   "mimetype": "text/x-python",
   "name": "python",
   "nbconvert_exporter": "python",
   "pygments_lexer": "ipython3",
   "version": "3.7.0"
  }
 },
 "nbformat": 4,
 "nbformat_minor": 1
}
